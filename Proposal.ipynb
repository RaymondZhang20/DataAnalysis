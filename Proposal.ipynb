{
 "cells": [
  {
   "cell_type": "markdown",
   "id": "2611c5f6-a6fd-4ee8-a1c2-8d58561bd9fc",
   "metadata": {},
   "source": [
    "# Group Project Proposal"
   ]
  },
  {
   "cell_type": "markdown",
   "id": "d1cea833-c977-4b81-bc55-57b73f86ce3f",
   "metadata": {},
   "source": [
    "## Introduction:"
   ]
  },
  {
   "cell_type": "markdown",
   "id": "bd8c1f87-67d7-4b5b-83e8-c034ef793312",
   "metadata": {},
   "source": [
    "## Preliminary Results:"
   ]
  },
  {
   "cell_type": "markdown",
   "id": "2ef4938f-5edb-4f30-97e1-01ebfd8edfdd",
   "metadata": {},
   "source": [
    "## Methods Plan:"
   ]
  },
  {
   "cell_type": "code",
   "execution_count": 15,
   "id": "488a338c-18a3-4f2d-9c29-7c0d4e062fff",
   "metadata": {},
   "outputs": [],
   "source": [
    "library(cowplot)\n",
    "library(datateachr)\n",
    "library(digest)\n",
    "library(gridExtra)\n",
    "library(infer)\n",
    "library(repr)\n",
    "library(taxyvr)\n",
    "library(tidyverse)"
   ]
  },
  {
   "cell_type": "code",
   "execution_count": 13,
   "id": "e2ef3f6b-ff9a-4797-9709-8fb7169478a9",
   "metadata": {},
   "outputs": [
    {
     "data": {
      "text/html": [
       "<table class=\"dataframe\">\n",
       "<caption>A data.frame: 6 × 25</caption>\n",
       "<thead>\n",
       "\t<tr><th></th><th scope=col>X</th><th scope=col>Record.ID</th><th scope=col>Agency.Code</th><th scope=col>Agency.Name</th><th scope=col>Agency.Type</th><th scope=col>City</th><th scope=col>State</th><th scope=col>Year</th><th scope=col>Month</th><th scope=col>Incident</th><th scope=col>⋯</th><th scope=col>Victim.Ethnicity</th><th scope=col>Perpetrator.Sex</th><th scope=col>Perpetrator.Age</th><th scope=col>Perpetrator.Race</th><th scope=col>Perpetrator.Ethnicity</th><th scope=col>Relationship</th><th scope=col>Weapon</th><th scope=col>Victim.Count</th><th scope=col>Perpetrator.Count</th><th scope=col>Record.Source</th></tr>\n",
       "\t<tr><th></th><th scope=col>&lt;int&gt;</th><th scope=col>&lt;int&gt;</th><th scope=col>&lt;chr&gt;</th><th scope=col>&lt;chr&gt;</th><th scope=col>&lt;chr&gt;</th><th scope=col>&lt;chr&gt;</th><th scope=col>&lt;chr&gt;</th><th scope=col>&lt;int&gt;</th><th scope=col>&lt;chr&gt;</th><th scope=col>&lt;int&gt;</th><th scope=col>⋯</th><th scope=col>&lt;chr&gt;</th><th scope=col>&lt;chr&gt;</th><th scope=col>&lt;int&gt;</th><th scope=col>&lt;chr&gt;</th><th scope=col>&lt;chr&gt;</th><th scope=col>&lt;chr&gt;</th><th scope=col>&lt;chr&gt;</th><th scope=col>&lt;int&gt;</th><th scope=col>&lt;int&gt;</th><th scope=col>&lt;chr&gt;</th></tr>\n",
       "</thead>\n",
       "<tbody>\n",
       "\t<tr><th scope=row>1</th><td>1</td><td>402708</td><td>AR00400</td><td>Benton        </td><td>Sheriff         </td><td>Benton    </td><td>Arkansas</td><td>2000</td><td>February</td><td>1</td><td>⋯</td><td>Not Hispanic</td><td>Unknown</td><td> 0</td><td>Unknown               </td><td>Unknown     </td><td>Unknown     </td><td>Firearm     </td><td>0</td><td>0</td><td>FBI</td></tr>\n",
       "\t<tr><th scope=row>2</th><td>2</td><td>402712</td><td>AR00403</td><td>Siloam Springs</td><td>Municipal Police</td><td>Benton    </td><td>Arkansas</td><td>2000</td><td>June    </td><td>1</td><td>⋯</td><td>Hispanic    </td><td>Male   </td><td>21</td><td>White                 </td><td>Hispanic    </td><td>Acquaintance</td><td>Knife       </td><td>0</td><td>0</td><td>FBI</td></tr>\n",
       "\t<tr><th scope=row>3</th><td>3</td><td>402713</td><td>AR00403</td><td>Siloam Springs</td><td>Municipal Police</td><td>Benton    </td><td>Arkansas</td><td>2000</td><td>July    </td><td>1</td><td>⋯</td><td>Hispanic    </td><td>Male   </td><td>24</td><td>Asian/Pacific Islander</td><td>Unknown     </td><td>Wife        </td><td>Handgun     </td><td>0</td><td>0</td><td>FBI</td></tr>\n",
       "\t<tr><th scope=row>4</th><td>4</td><td>402718</td><td>AR01400</td><td>Columbia      </td><td>Sheriff         </td><td>Columbia  </td><td>Arkansas</td><td>2000</td><td>February</td><td>1</td><td>⋯</td><td>Not Hispanic</td><td>Male   </td><td>16</td><td>White                 </td><td>Not Hispanic</td><td>Acquaintance</td><td>Blunt Object</td><td>0</td><td>1</td><td>FBI</td></tr>\n",
       "\t<tr><th scope=row>5</th><td>5</td><td>402726</td><td>AR01801</td><td>West Memphis  </td><td>Municipal Police</td><td>Crittenden</td><td>Arkansas</td><td>2000</td><td>January </td><td>1</td><td>⋯</td><td>Not Hispanic</td><td>Male   </td><td>40</td><td>Black                 </td><td>Not Hispanic</td><td>Girlfriend  </td><td>Firearm     </td><td>0</td><td>0</td><td>FBI</td></tr>\n",
       "\t<tr><th scope=row>6</th><td>6</td><td>402727</td><td>AR01801</td><td>West Memphis  </td><td>Municipal Police</td><td>Crittenden</td><td>Arkansas</td><td>2000</td><td>January </td><td>2</td><td>⋯</td><td>Not Hispanic</td><td>Male   </td><td>39</td><td>Black                 </td><td>Not Hispanic</td><td>Wife        </td><td>Firearm     </td><td>0</td><td>0</td><td>FBI</td></tr>\n",
       "</tbody>\n",
       "</table>\n"
      ],
      "text/latex": [
       "A data.frame: 6 × 25\n",
       "\\begin{tabular}{r|lllllllllllllllllllll}\n",
       "  & X & Record.ID & Agency.Code & Agency.Name & Agency.Type & City & State & Year & Month & Incident & ⋯ & Victim.Ethnicity & Perpetrator.Sex & Perpetrator.Age & Perpetrator.Race & Perpetrator.Ethnicity & Relationship & Weapon & Victim.Count & Perpetrator.Count & Record.Source\\\\\n",
       "  & <int> & <int> & <chr> & <chr> & <chr> & <chr> & <chr> & <int> & <chr> & <int> & ⋯ & <chr> & <chr> & <int> & <chr> & <chr> & <chr> & <chr> & <int> & <int> & <chr>\\\\\n",
       "\\hline\n",
       "\t1 & 1 & 402708 & AR00400 & Benton         & Sheriff          & Benton     & Arkansas & 2000 & February & 1 & ⋯ & Not Hispanic & Unknown &  0 & Unknown                & Unknown      & Unknown      & Firearm      & 0 & 0 & FBI\\\\\n",
       "\t2 & 2 & 402712 & AR00403 & Siloam Springs & Municipal Police & Benton     & Arkansas & 2000 & June     & 1 & ⋯ & Hispanic     & Male    & 21 & White                  & Hispanic     & Acquaintance & Knife        & 0 & 0 & FBI\\\\\n",
       "\t3 & 3 & 402713 & AR00403 & Siloam Springs & Municipal Police & Benton     & Arkansas & 2000 & July     & 1 & ⋯ & Hispanic     & Male    & 24 & Asian/Pacific Islander & Unknown      & Wife         & Handgun      & 0 & 0 & FBI\\\\\n",
       "\t4 & 4 & 402718 & AR01400 & Columbia       & Sheriff          & Columbia   & Arkansas & 2000 & February & 1 & ⋯ & Not Hispanic & Male    & 16 & White                  & Not Hispanic & Acquaintance & Blunt Object & 0 & 1 & FBI\\\\\n",
       "\t5 & 5 & 402726 & AR01801 & West Memphis   & Municipal Police & Crittenden & Arkansas & 2000 & January  & 1 & ⋯ & Not Hispanic & Male    & 40 & Black                  & Not Hispanic & Girlfriend   & Firearm      & 0 & 0 & FBI\\\\\n",
       "\t6 & 6 & 402727 & AR01801 & West Memphis   & Municipal Police & Crittenden & Arkansas & 2000 & January  & 2 & ⋯ & Not Hispanic & Male    & 39 & Black                  & Not Hispanic & Wife         & Firearm      & 0 & 0 & FBI\\\\\n",
       "\\end{tabular}\n"
      ],
      "text/markdown": [
       "\n",
       "A data.frame: 6 × 25\n",
       "\n",
       "| <!--/--> | X &lt;int&gt; | Record.ID &lt;int&gt; | Agency.Code &lt;chr&gt; | Agency.Name &lt;chr&gt; | Agency.Type &lt;chr&gt; | City &lt;chr&gt; | State &lt;chr&gt; | Year &lt;int&gt; | Month &lt;chr&gt; | Incident &lt;int&gt; | ⋯ ⋯ | Victim.Ethnicity &lt;chr&gt; | Perpetrator.Sex &lt;chr&gt; | Perpetrator.Age &lt;int&gt; | Perpetrator.Race &lt;chr&gt; | Perpetrator.Ethnicity &lt;chr&gt; | Relationship &lt;chr&gt; | Weapon &lt;chr&gt; | Victim.Count &lt;int&gt; | Perpetrator.Count &lt;int&gt; | Record.Source &lt;chr&gt; |\n",
       "|---|---|---|---|---|---|---|---|---|---|---|---|---|---|---|---|---|---|---|---|---|---|\n",
       "| 1 | 1 | 402708 | AR00400 | Benton         | Sheriff          | Benton     | Arkansas | 2000 | February | 1 | ⋯ | Not Hispanic | Unknown |  0 | Unknown                | Unknown      | Unknown      | Firearm      | 0 | 0 | FBI |\n",
       "| 2 | 2 | 402712 | AR00403 | Siloam Springs | Municipal Police | Benton     | Arkansas | 2000 | June     | 1 | ⋯ | Hispanic     | Male    | 21 | White                  | Hispanic     | Acquaintance | Knife        | 0 | 0 | FBI |\n",
       "| 3 | 3 | 402713 | AR00403 | Siloam Springs | Municipal Police | Benton     | Arkansas | 2000 | July     | 1 | ⋯ | Hispanic     | Male    | 24 | Asian/Pacific Islander | Unknown      | Wife         | Handgun      | 0 | 0 | FBI |\n",
       "| 4 | 4 | 402718 | AR01400 | Columbia       | Sheriff          | Columbia   | Arkansas | 2000 | February | 1 | ⋯ | Not Hispanic | Male    | 16 | White                  | Not Hispanic | Acquaintance | Blunt Object | 0 | 1 | FBI |\n",
       "| 5 | 5 | 402726 | AR01801 | West Memphis   | Municipal Police | Crittenden | Arkansas | 2000 | January  | 1 | ⋯ | Not Hispanic | Male    | 40 | Black                  | Not Hispanic | Girlfriend   | Firearm      | 0 | 0 | FBI |\n",
       "| 6 | 6 | 402727 | AR01801 | West Memphis   | Municipal Police | Crittenden | Arkansas | 2000 | January  | 2 | ⋯ | Not Hispanic | Male    | 39 | Black                  | Not Hispanic | Wife         | Firearm      | 0 | 0 | FBI |\n",
       "\n"
      ],
      "text/plain": [
       "  X Record.ID Agency.Code Agency.Name    Agency.Type      City       State   \n",
       "1 1 402708    AR00400     Benton         Sheriff          Benton     Arkansas\n",
       "2 2 402712    AR00403     Siloam Springs Municipal Police Benton     Arkansas\n",
       "3 3 402713    AR00403     Siloam Springs Municipal Police Benton     Arkansas\n",
       "4 4 402718    AR01400     Columbia       Sheriff          Columbia   Arkansas\n",
       "5 5 402726    AR01801     West Memphis   Municipal Police Crittenden Arkansas\n",
       "6 6 402727    AR01801     West Memphis   Municipal Police Crittenden Arkansas\n",
       "  Year Month    Incident ⋯ Victim.Ethnicity Perpetrator.Sex Perpetrator.Age\n",
       "1 2000 February 1        ⋯ Not Hispanic     Unknown          0             \n",
       "2 2000 June     1        ⋯ Hispanic         Male            21             \n",
       "3 2000 July     1        ⋯ Hispanic         Male            24             \n",
       "4 2000 February 1        ⋯ Not Hispanic     Male            16             \n",
       "5 2000 January  1        ⋯ Not Hispanic     Male            40             \n",
       "6 2000 January  2        ⋯ Not Hispanic     Male            39             \n",
       "  Perpetrator.Race       Perpetrator.Ethnicity Relationship Weapon      \n",
       "1 Unknown                Unknown               Unknown      Firearm     \n",
       "2 White                  Hispanic              Acquaintance Knife       \n",
       "3 Asian/Pacific Islander Unknown               Wife         Handgun     \n",
       "4 White                  Not Hispanic          Acquaintance Blunt Object\n",
       "5 Black                  Not Hispanic          Girlfriend   Firearm     \n",
       "6 Black                  Not Hispanic          Wife         Firearm     \n",
       "  Victim.Count Perpetrator.Count Record.Source\n",
       "1 0            0                 FBI          \n",
       "2 0            0                 FBI          \n",
       "3 0            0                 FBI          \n",
       "4 0            1                 FBI          \n",
       "5 0            0                 FBI          \n",
       "6 0            0                 FBI          "
      ]
     },
     "metadata": {},
     "output_type": "display_data"
    }
   ],
   "source": [
    "data <- read.csv(\"data.csv\")\n",
    "head(data)"
   ]
  },
  {
   "cell_type": "markdown",
   "id": "3d87f258-395c-444d-a1a9-4c2730115630",
   "metadata": {},
   "source": [
    "## References"
   ]
  }
 ],
 "metadata": {
  "kernelspec": {
   "display_name": "R",
   "language": "R",
   "name": "ir"
  },
  "language_info": {
   "codemirror_mode": "r",
   "file_extension": ".r",
   "mimetype": "text/x-r-source",
   "name": "R",
   "pygments_lexer": "r",
   "version": "4.0.5"
  }
 },
 "nbformat": 4,
 "nbformat_minor": 5
}
