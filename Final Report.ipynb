{
 "cells": [
  {
   "cell_type": "markdown",
   "id": "2611c5f6-a6fd-4ee8-a1c2-8d58561bd9fc",
   "metadata": {},
   "source": [
    "# Group Project Proposal: \n",
    "# Analysis of the relationship between average age for committing homicide and geological location\n"
   ]
  },
  {
   "cell_type": "markdown",
   "id": "d1cea833-c977-4b81-bc55-57b73f86ce3f",
   "metadata": {},
   "source": [
    "## Introduction:"
   ]
  },
  {
   "cell_type": "markdown",
   "id": "5aff00b9-597e-4bb4-94df-ed98709fa3b6",
   "metadata": {},
   "source": [
    "There has been an increase in the homicide rate in the U.S over the last couple of years, Ousey et al. suggest it is due to the increase in the immigration rate in the US, however, Fingerhut et al. (1998) suggest that there is a connection between homicide rate with age, race, sex and the level of urbanization. Our group has been interested in this topic and we found a dataset called ”Homicide Reports, 1980-2014“. This dataset includes murders from the FBI's Supplementary Homicide Report with more than 22,000 homicides that were not reported to the Justice Department. This dataset includes the age, race, sex, and ethnicity of victims and perpetrators, in addition to the relationship between the victim and perpetrator and the weapon used.\n",
    "\n",
    "The question that we are trying to answer is whether living in Los Angeles or New York would affect the average age for committing a homicide after 2000. We chose these 2 cities due to the fact that New York is the city with the most homicide in the eastern US and Los Angeles in the western US, and we thought that they are representative of each side. Our hypothesis is that there will be a difference in the age of committing homicide between New York and Los Angeles. We will compare the mean and median age of committing a homicide in these 2 cities and generate a confidence interval to see whether there will be a significant difference for us to make a conclusion."
   ]
  },
  {
   "cell_type": "markdown",
   "id": "bd8c1f87-67d7-4b5b-83e8-c034ef793312",
   "metadata": {},
   "source": [
    "## Preliminary Results:"
   ]
  },
  {
   "cell_type": "markdown",
   "id": "05b6fadc-cf98-4a7c-b6b8-abf8d772530f",
   "metadata": {},
   "source": [
    "### Loading library"
   ]
  },
  {
   "cell_type": "code",
   "execution_count": 1,
   "id": "488a338c-18a3-4f2d-9c29-7c0d4e062fff",
   "metadata": {},
   "outputs": [
    {
     "name": "stderr",
     "output_type": "stream",
     "text": [
      "── \u001b[1mAttaching packages\u001b[22m ─────────────────────────────────────── tidyverse 1.3.0 ──\n",
      "\n",
      "\u001b[32m✔\u001b[39m \u001b[34mggplot2\u001b[39m 3.3.6     \u001b[32m✔\u001b[39m \u001b[34mpurrr  \u001b[39m 0.3.4\n",
      "\u001b[32m✔\u001b[39m \u001b[34mtibble \u001b[39m 3.1.7     \u001b[32m✔\u001b[39m \u001b[34mdplyr  \u001b[39m 1.0.9\n",
      "\u001b[32m✔\u001b[39m \u001b[34mtidyr  \u001b[39m 1.2.0     \u001b[32m✔\u001b[39m \u001b[34mstringr\u001b[39m 1.4.0\n",
      "\u001b[32m✔\u001b[39m \u001b[34mreadr  \u001b[39m 2.1.2     \u001b[32m✔\u001b[39m \u001b[34mforcats\u001b[39m 0.5.1\n",
      "\n",
      "── \u001b[1mConflicts\u001b[22m ────────────────────────────────────────── tidyverse_conflicts() ──\n",
      "\u001b[31m✖\u001b[39m \u001b[34mdplyr\u001b[39m::\u001b[32mcombine()\u001b[39m masks \u001b[34mgridExtra\u001b[39m::combine()\n",
      "\u001b[31m✖\u001b[39m \u001b[34mdplyr\u001b[39m::\u001b[32mfilter()\u001b[39m  masks \u001b[34mstats\u001b[39m::filter()\n",
      "\u001b[31m✖\u001b[39m \u001b[34mdplyr\u001b[39m::\u001b[32mlag()\u001b[39m     masks \u001b[34mstats\u001b[39m::lag()\n",
      "\n"
     ]
    }
   ],
   "source": [
    "library(cowplot)\n",
    "library(datateachr)\n",
    "library(digest)\n",
    "library(gridExtra)\n",
    "library(infer)\n",
    "library(repr)\n",
    "library(taxyvr)\n",
    "library(tidyverse)\n",
    "library(broom)"
   ]
  },
  {
   "cell_type": "markdown",
   "id": "7fbab877-6685-4fa0-9dd6-dd2c29605814",
   "metadata": {},
   "source": [
    "### Reading data(Because our data is from Kaggle, so instead of reading it from web, we read it locally.)"
   ]
  },
  {
   "cell_type": "code",
   "execution_count": 2,
   "id": "e2ef3f6b-ff9a-4797-9709-8fb7169478a9",
   "metadata": {},
   "outputs": [
    {
     "data": {
      "text/html": [
       "<table class=\"dataframe\">\n",
       "<caption>A data.frame: 6 × 25</caption>\n",
       "<thead>\n",
       "\t<tr><th></th><th scope=col>X</th><th scope=col>Record.ID</th><th scope=col>Agency.Code</th><th scope=col>Agency.Name</th><th scope=col>Agency.Type</th><th scope=col>City</th><th scope=col>State</th><th scope=col>Year</th><th scope=col>Month</th><th scope=col>Incident</th><th scope=col>⋯</th><th scope=col>Victim.Ethnicity</th><th scope=col>Perpetrator.Sex</th><th scope=col>Perpetrator.Age</th><th scope=col>Perpetrator.Race</th><th scope=col>Perpetrator.Ethnicity</th><th scope=col>Relationship</th><th scope=col>Weapon</th><th scope=col>Victim.Count</th><th scope=col>Perpetrator.Count</th><th scope=col>Record.Source</th></tr>\n",
       "\t<tr><th></th><th scope=col>&lt;int&gt;</th><th scope=col>&lt;int&gt;</th><th scope=col>&lt;chr&gt;</th><th scope=col>&lt;chr&gt;</th><th scope=col>&lt;chr&gt;</th><th scope=col>&lt;chr&gt;</th><th scope=col>&lt;chr&gt;</th><th scope=col>&lt;int&gt;</th><th scope=col>&lt;chr&gt;</th><th scope=col>&lt;int&gt;</th><th scope=col>⋯</th><th scope=col>&lt;chr&gt;</th><th scope=col>&lt;chr&gt;</th><th scope=col>&lt;int&gt;</th><th scope=col>&lt;chr&gt;</th><th scope=col>&lt;chr&gt;</th><th scope=col>&lt;chr&gt;</th><th scope=col>&lt;chr&gt;</th><th scope=col>&lt;int&gt;</th><th scope=col>&lt;int&gt;</th><th scope=col>&lt;chr&gt;</th></tr>\n",
       "</thead>\n",
       "<tbody>\n",
       "\t<tr><th scope=row>1</th><td>1</td><td>402708</td><td>AR00400</td><td>Benton        </td><td>Sheriff         </td><td>Benton    </td><td>Arkansas</td><td>2000</td><td>February</td><td>1</td><td>⋯</td><td>Not Hispanic</td><td>Unknown</td><td> 0</td><td>Unknown               </td><td>Unknown     </td><td>Unknown     </td><td>Firearm     </td><td>0</td><td>0</td><td>FBI</td></tr>\n",
       "\t<tr><th scope=row>2</th><td>2</td><td>402712</td><td>AR00403</td><td>Siloam Springs</td><td>Municipal Police</td><td>Benton    </td><td>Arkansas</td><td>2000</td><td>June    </td><td>1</td><td>⋯</td><td>Hispanic    </td><td>Male   </td><td>21</td><td>White                 </td><td>Hispanic    </td><td>Acquaintance</td><td>Knife       </td><td>0</td><td>0</td><td>FBI</td></tr>\n",
       "\t<tr><th scope=row>3</th><td>3</td><td>402713</td><td>AR00403</td><td>Siloam Springs</td><td>Municipal Police</td><td>Benton    </td><td>Arkansas</td><td>2000</td><td>July    </td><td>1</td><td>⋯</td><td>Hispanic    </td><td>Male   </td><td>24</td><td>Asian/Pacific Islander</td><td>Unknown     </td><td>Wife        </td><td>Handgun     </td><td>0</td><td>0</td><td>FBI</td></tr>\n",
       "\t<tr><th scope=row>4</th><td>4</td><td>402718</td><td>AR01400</td><td>Columbia      </td><td>Sheriff         </td><td>Columbia  </td><td>Arkansas</td><td>2000</td><td>February</td><td>1</td><td>⋯</td><td>Not Hispanic</td><td>Male   </td><td>16</td><td>White                 </td><td>Not Hispanic</td><td>Acquaintance</td><td>Blunt Object</td><td>0</td><td>1</td><td>FBI</td></tr>\n",
       "\t<tr><th scope=row>5</th><td>5</td><td>402726</td><td>AR01801</td><td>West Memphis  </td><td>Municipal Police</td><td>Crittenden</td><td>Arkansas</td><td>2000</td><td>January </td><td>1</td><td>⋯</td><td>Not Hispanic</td><td>Male   </td><td>40</td><td>Black                 </td><td>Not Hispanic</td><td>Girlfriend  </td><td>Firearm     </td><td>0</td><td>0</td><td>FBI</td></tr>\n",
       "\t<tr><th scope=row>6</th><td>6</td><td>402727</td><td>AR01801</td><td>West Memphis  </td><td>Municipal Police</td><td>Crittenden</td><td>Arkansas</td><td>2000</td><td>January </td><td>2</td><td>⋯</td><td>Not Hispanic</td><td>Male   </td><td>39</td><td>Black                 </td><td>Not Hispanic</td><td>Wife        </td><td>Firearm     </td><td>0</td><td>0</td><td>FBI</td></tr>\n",
       "</tbody>\n",
       "</table>\n"
      ],
      "text/latex": [
       "A data.frame: 6 × 25\n",
       "\\begin{tabular}{r|lllllllllllllllllllll}\n",
       "  & X & Record.ID & Agency.Code & Agency.Name & Agency.Type & City & State & Year & Month & Incident & ⋯ & Victim.Ethnicity & Perpetrator.Sex & Perpetrator.Age & Perpetrator.Race & Perpetrator.Ethnicity & Relationship & Weapon & Victim.Count & Perpetrator.Count & Record.Source\\\\\n",
       "  & <int> & <int> & <chr> & <chr> & <chr> & <chr> & <chr> & <int> & <chr> & <int> & ⋯ & <chr> & <chr> & <int> & <chr> & <chr> & <chr> & <chr> & <int> & <int> & <chr>\\\\\n",
       "\\hline\n",
       "\t1 & 1 & 402708 & AR00400 & Benton         & Sheriff          & Benton     & Arkansas & 2000 & February & 1 & ⋯ & Not Hispanic & Unknown &  0 & Unknown                & Unknown      & Unknown      & Firearm      & 0 & 0 & FBI\\\\\n",
       "\t2 & 2 & 402712 & AR00403 & Siloam Springs & Municipal Police & Benton     & Arkansas & 2000 & June     & 1 & ⋯ & Hispanic     & Male    & 21 & White                  & Hispanic     & Acquaintance & Knife        & 0 & 0 & FBI\\\\\n",
       "\t3 & 3 & 402713 & AR00403 & Siloam Springs & Municipal Police & Benton     & Arkansas & 2000 & July     & 1 & ⋯ & Hispanic     & Male    & 24 & Asian/Pacific Islander & Unknown      & Wife         & Handgun      & 0 & 0 & FBI\\\\\n",
       "\t4 & 4 & 402718 & AR01400 & Columbia       & Sheriff          & Columbia   & Arkansas & 2000 & February & 1 & ⋯ & Not Hispanic & Male    & 16 & White                  & Not Hispanic & Acquaintance & Blunt Object & 0 & 1 & FBI\\\\\n",
       "\t5 & 5 & 402726 & AR01801 & West Memphis   & Municipal Police & Crittenden & Arkansas & 2000 & January  & 1 & ⋯ & Not Hispanic & Male    & 40 & Black                  & Not Hispanic & Girlfriend   & Firearm      & 0 & 0 & FBI\\\\\n",
       "\t6 & 6 & 402727 & AR01801 & West Memphis   & Municipal Police & Crittenden & Arkansas & 2000 & January  & 2 & ⋯ & Not Hispanic & Male    & 39 & Black                  & Not Hispanic & Wife         & Firearm      & 0 & 0 & FBI\\\\\n",
       "\\end{tabular}\n"
      ],
      "text/markdown": [
       "\n",
       "A data.frame: 6 × 25\n",
       "\n",
       "| <!--/--> | X &lt;int&gt; | Record.ID &lt;int&gt; | Agency.Code &lt;chr&gt; | Agency.Name &lt;chr&gt; | Agency.Type &lt;chr&gt; | City &lt;chr&gt; | State &lt;chr&gt; | Year &lt;int&gt; | Month &lt;chr&gt; | Incident &lt;int&gt; | ⋯ ⋯ | Victim.Ethnicity &lt;chr&gt; | Perpetrator.Sex &lt;chr&gt; | Perpetrator.Age &lt;int&gt; | Perpetrator.Race &lt;chr&gt; | Perpetrator.Ethnicity &lt;chr&gt; | Relationship &lt;chr&gt; | Weapon &lt;chr&gt; | Victim.Count &lt;int&gt; | Perpetrator.Count &lt;int&gt; | Record.Source &lt;chr&gt; |\n",
       "|---|---|---|---|---|---|---|---|---|---|---|---|---|---|---|---|---|---|---|---|---|---|\n",
       "| 1 | 1 | 402708 | AR00400 | Benton         | Sheriff          | Benton     | Arkansas | 2000 | February | 1 | ⋯ | Not Hispanic | Unknown |  0 | Unknown                | Unknown      | Unknown      | Firearm      | 0 | 0 | FBI |\n",
       "| 2 | 2 | 402712 | AR00403 | Siloam Springs | Municipal Police | Benton     | Arkansas | 2000 | June     | 1 | ⋯ | Hispanic     | Male    | 21 | White                  | Hispanic     | Acquaintance | Knife        | 0 | 0 | FBI |\n",
       "| 3 | 3 | 402713 | AR00403 | Siloam Springs | Municipal Police | Benton     | Arkansas | 2000 | July     | 1 | ⋯ | Hispanic     | Male    | 24 | Asian/Pacific Islander | Unknown      | Wife         | Handgun      | 0 | 0 | FBI |\n",
       "| 4 | 4 | 402718 | AR01400 | Columbia       | Sheriff          | Columbia   | Arkansas | 2000 | February | 1 | ⋯ | Not Hispanic | Male    | 16 | White                  | Not Hispanic | Acquaintance | Blunt Object | 0 | 1 | FBI |\n",
       "| 5 | 5 | 402726 | AR01801 | West Memphis   | Municipal Police | Crittenden | Arkansas | 2000 | January  | 1 | ⋯ | Not Hispanic | Male    | 40 | Black                  | Not Hispanic | Girlfriend   | Firearm      | 0 | 0 | FBI |\n",
       "| 6 | 6 | 402727 | AR01801 | West Memphis   | Municipal Police | Crittenden | Arkansas | 2000 | January  | 2 | ⋯ | Not Hispanic | Male    | 39 | Black                  | Not Hispanic | Wife         | Firearm      | 0 | 0 | FBI |\n",
       "\n"
      ],
      "text/plain": [
       "  X Record.ID Agency.Code Agency.Name    Agency.Type      City       State   \n",
       "1 1 402708    AR00400     Benton         Sheriff          Benton     Arkansas\n",
       "2 2 402712    AR00403     Siloam Springs Municipal Police Benton     Arkansas\n",
       "3 3 402713    AR00403     Siloam Springs Municipal Police Benton     Arkansas\n",
       "4 4 402718    AR01400     Columbia       Sheriff          Columbia   Arkansas\n",
       "5 5 402726    AR01801     West Memphis   Municipal Police Crittenden Arkansas\n",
       "6 6 402727    AR01801     West Memphis   Municipal Police Crittenden Arkansas\n",
       "  Year Month    Incident ⋯ Victim.Ethnicity Perpetrator.Sex Perpetrator.Age\n",
       "1 2000 February 1        ⋯ Not Hispanic     Unknown          0             \n",
       "2 2000 June     1        ⋯ Hispanic         Male            21             \n",
       "3 2000 July     1        ⋯ Hispanic         Male            24             \n",
       "4 2000 February 1        ⋯ Not Hispanic     Male            16             \n",
       "5 2000 January  1        ⋯ Not Hispanic     Male            40             \n",
       "6 2000 January  2        ⋯ Not Hispanic     Male            39             \n",
       "  Perpetrator.Race       Perpetrator.Ethnicity Relationship Weapon      \n",
       "1 Unknown                Unknown               Unknown      Firearm     \n",
       "2 White                  Hispanic              Acquaintance Knife       \n",
       "3 Asian/Pacific Islander Unknown               Wife         Handgun     \n",
       "4 White                  Not Hispanic          Acquaintance Blunt Object\n",
       "5 Black                  Not Hispanic          Girlfriend   Firearm     \n",
       "6 Black                  Not Hispanic          Wife         Firearm     \n",
       "  Victim.Count Perpetrator.Count Record.Source\n",
       "1 0            0                 FBI          \n",
       "2 0            0                 FBI          \n",
       "3 0            0                 FBI          \n",
       "4 0            1                 FBI          \n",
       "5 0            0                 FBI          \n",
       "6 0            0                 FBI          "
      ]
     },
     "metadata": {},
     "output_type": "display_data"
    }
   ],
   "source": [
    "data <- read.csv(\"data.csv\")\n",
    "head(data)"
   ]
  },
  {
   "cell_type": "code",
   "execution_count": 3,
   "id": "9956f4f9-b88d-4cdd-b7d5-87859008a66a",
   "metadata": {},
   "outputs": [
    {
     "name": "stdout",
     "output_type": "stream",
     "text": [
      "'data.frame':\t84253 obs. of  25 variables:\n",
      " $ X                    : int  1 2 3 4 5 6 7 8 9 10 ...\n",
      " $ Record.ID            : int  402708 402712 402713 402718 402726 402727 402752 402754 402755 402765 ...\n",
      " $ Agency.Code          : chr  \"AR00400\" \"AR00403\" \"AR00403\" \"AR01400\" ...\n",
      " $ Agency.Name          : chr  \"Benton\" \"Siloam Springs\" \"Siloam Springs\" \"Columbia\" ...\n",
      " $ Agency.Type          : chr  \"Sheriff\" \"Municipal Police\" \"Municipal Police\" \"Sheriff\" ...\n",
      " $ City                 : chr  \"Benton\" \"Benton\" \"Benton\" \"Columbia\" ...\n",
      " $ State                : chr  \"Arkansas\" \"Arkansas\" \"Arkansas\" \"Arkansas\" ...\n",
      " $ Year                 : int  2000 2000 2000 2000 2000 2000 2000 2000 2000 2000 ...\n",
      " $ Month                : chr  \"February\" \"June\" \"July\" \"February\" ...\n",
      " $ Incident             : int  1 1 1 1 1 2 1 3 1 1 ...\n",
      " $ Crime.Type           : chr  \"Murder or Manslaughter\" \"Murder or Manslaughter\" \"Murder or Manslaughter\" \"Murder or Manslaughter\" ...\n",
      " $ Crime.Solved         : chr  \"No\" \"Yes\" \"Yes\" \"Yes\" ...\n",
      " $ Victim.Sex           : chr  \"Male\" \"Male\" \"Female\" \"Female\" ...\n",
      " $ Victim.Age           : int  61 33 23 15 33 44 3 61 28 72 ...\n",
      " $ Victim.Race          : chr  \"White\" \"White\" \"White\" \"White\" ...\n",
      " $ Victim.Ethnicity     : chr  \"Not Hispanic\" \"Hispanic\" \"Hispanic\" \"Not Hispanic\" ...\n",
      " $ Perpetrator.Sex      : chr  \"Unknown\" \"Male\" \"Male\" \"Male\" ...\n",
      " $ Perpetrator.Age      : int  0 21 24 16 40 39 19 28 25 15 ...\n",
      " $ Perpetrator.Race     : chr  \"Unknown\" \"White\" \"Asian/Pacific Islander\" \"White\" ...\n",
      " $ Perpetrator.Ethnicity: chr  \"Unknown\" \"Hispanic\" \"Unknown\" \"Not Hispanic\" ...\n",
      " $ Relationship         : chr  \"Unknown\" \"Acquaintance\" \"Wife\" \"Acquaintance\" ...\n",
      " $ Weapon               : chr  \"Firearm\" \"Knife\" \"Handgun\" \"Blunt Object\" ...\n",
      " $ Victim.Count         : int  0 0 0 0 0 0 0 0 0 0 ...\n",
      " $ Perpetrator.Count    : int  0 0 0 1 0 0 0 0 0 3 ...\n",
      " $ Record.Source        : chr  \"FBI\" \"FBI\" \"FBI\" \"FBI\" ...\n"
     ]
    }
   ],
   "source": [
    "str(data)"
   ]
  },
  {
   "cell_type": "markdown",
   "id": "251d9726-c12b-4fc7-9277-a799f235d478",
   "metadata": {},
   "source": [
    "### Wrangling data\n",
    "We deselected all the columns that is irrelevant with our study and filtered out all the data with NA and unreasonable data(victim age higher than 200). "
   ]
  },
  {
   "cell_type": "code",
   "execution_count": 4,
   "id": "d6372f6c-65f6-45af-a881-ad3ed9f713df",
   "metadata": {},
   "outputs": [
    {
     "data": {
      "text/html": [
       "<table class=\"dataframe\">\n",
       "<caption>A data.frame: 6 × 6</caption>\n",
       "<thead>\n",
       "\t<tr><th></th><th scope=col>City</th><th scope=col>Year</th><th scope=col>Month</th><th scope=col>Victim.Age</th><th scope=col>Perpetrator.Age</th><th scope=col>Weapon</th></tr>\n",
       "\t<tr><th></th><th scope=col>&lt;chr&gt;</th><th scope=col>&lt;int&gt;</th><th scope=col>&lt;chr&gt;</th><th scope=col>&lt;int&gt;</th><th scope=col>&lt;int&gt;</th><th scope=col>&lt;chr&gt;</th></tr>\n",
       "</thead>\n",
       "<tbody>\n",
       "\t<tr><th scope=row>1</th><td>Los Angeles</td><td>2000</td><td>January </td><td>17</td><td>21</td><td>Handgun     </td></tr>\n",
       "\t<tr><th scope=row>2</th><td>Los Angeles</td><td>2000</td><td>January </td><td>26</td><td>52</td><td>Handgun     </td></tr>\n",
       "\t<tr><th scope=row>3</th><td>Los Angeles</td><td>2000</td><td>January </td><td>46</td><td>47</td><td>Blunt Object</td></tr>\n",
       "\t<tr><th scope=row>4</th><td>Los Angeles</td><td>2000</td><td>February</td><td>50</td><td>33</td><td>Handgun     </td></tr>\n",
       "\t<tr><th scope=row>5</th><td>Los Angeles</td><td>2000</td><td>February</td><td>17</td><td>20</td><td>Handgun     </td></tr>\n",
       "\t<tr><th scope=row>6</th><td>Los Angeles</td><td>2000</td><td>February</td><td>70</td><td>34</td><td>Handgun     </td></tr>\n",
       "</tbody>\n",
       "</table>\n"
      ],
      "text/latex": [
       "A data.frame: 6 × 6\n",
       "\\begin{tabular}{r|llllll}\n",
       "  & City & Year & Month & Victim.Age & Perpetrator.Age & Weapon\\\\\n",
       "  & <chr> & <int> & <chr> & <int> & <int> & <chr>\\\\\n",
       "\\hline\n",
       "\t1 & Los Angeles & 2000 & January  & 17 & 21 & Handgun     \\\\\n",
       "\t2 & Los Angeles & 2000 & January  & 26 & 52 & Handgun     \\\\\n",
       "\t3 & Los Angeles & 2000 & January  & 46 & 47 & Blunt Object\\\\\n",
       "\t4 & Los Angeles & 2000 & February & 50 & 33 & Handgun     \\\\\n",
       "\t5 & Los Angeles & 2000 & February & 17 & 20 & Handgun     \\\\\n",
       "\t6 & Los Angeles & 2000 & February & 70 & 34 & Handgun     \\\\\n",
       "\\end{tabular}\n"
      ],
      "text/markdown": [
       "\n",
       "A data.frame: 6 × 6\n",
       "\n",
       "| <!--/--> | City &lt;chr&gt; | Year &lt;int&gt; | Month &lt;chr&gt; | Victim.Age &lt;int&gt; | Perpetrator.Age &lt;int&gt; | Weapon &lt;chr&gt; |\n",
       "|---|---|---|---|---|---|---|\n",
       "| 1 | Los Angeles | 2000 | January  | 17 | 21 | Handgun      |\n",
       "| 2 | Los Angeles | 2000 | January  | 26 | 52 | Handgun      |\n",
       "| 3 | Los Angeles | 2000 | January  | 46 | 47 | Blunt Object |\n",
       "| 4 | Los Angeles | 2000 | February | 50 | 33 | Handgun      |\n",
       "| 5 | Los Angeles | 2000 | February | 17 | 20 | Handgun      |\n",
       "| 6 | Los Angeles | 2000 | February | 70 | 34 | Handgun      |\n",
       "\n"
      ],
      "text/plain": [
       "  City        Year Month    Victim.Age Perpetrator.Age Weapon      \n",
       "1 Los Angeles 2000 January  17         21              Handgun     \n",
       "2 Los Angeles 2000 January  26         52              Handgun     \n",
       "3 Los Angeles 2000 January  46         47              Blunt Object\n",
       "4 Los Angeles 2000 February 50         33              Handgun     \n",
       "5 Los Angeles 2000 February 17         20              Handgun     \n",
       "6 Los Angeles 2000 February 70         34              Handgun     "
      ]
     },
     "metadata": {},
     "output_type": "display_data"
    },
    {
     "name": "stdout",
     "output_type": "stream",
     "text": [
      "[1] \"Los Angeles data population: \"\n"
     ]
    },
    {
     "data": {
      "text/html": [
       "6100"
      ],
      "text/latex": [
       "6100"
      ],
      "text/markdown": [
       "6100"
      ],
      "text/plain": [
       "[1] 6100"
      ]
     },
     "metadata": {},
     "output_type": "display_data"
    },
    {
     "data": {
      "text/html": [
       "<table class=\"dataframe\">\n",
       "<caption>A data.frame: 6 × 6</caption>\n",
       "<thead>\n",
       "\t<tr><th></th><th scope=col>City</th><th scope=col>Year</th><th scope=col>Month</th><th scope=col>Victim.Age</th><th scope=col>Perpetrator.Age</th><th scope=col>Weapon</th></tr>\n",
       "\t<tr><th></th><th scope=col>&lt;chr&gt;</th><th scope=col>&lt;int&gt;</th><th scope=col>&lt;chr&gt;</th><th scope=col>&lt;int&gt;</th><th scope=col>&lt;int&gt;</th><th scope=col>&lt;chr&gt;</th></tr>\n",
       "</thead>\n",
       "<tbody>\n",
       "\t<tr><th scope=row>1</th><td>New York</td><td>2007</td><td>December</td><td>29</td><td>31</td><td>Firearm     </td></tr>\n",
       "\t<tr><th scope=row>2</th><td>New York</td><td>2007</td><td>January </td><td>16</td><td>21</td><td>Firearm     </td></tr>\n",
       "\t<tr><th scope=row>3</th><td>New York</td><td>2007</td><td>January </td><td>28</td><td>33</td><td>Knife       </td></tr>\n",
       "\t<tr><th scope=row>4</th><td>New York</td><td>2007</td><td>January </td><td>20</td><td>30</td><td>Firearm     </td></tr>\n",
       "\t<tr><th scope=row>5</th><td>New York</td><td>2007</td><td>February</td><td>36</td><td>42</td><td>Blunt Object</td></tr>\n",
       "\t<tr><th scope=row>6</th><td>New York</td><td>2007</td><td>February</td><td>25</td><td>43</td><td>Firearm     </td></tr>\n",
       "</tbody>\n",
       "</table>\n"
      ],
      "text/latex": [
       "A data.frame: 6 × 6\n",
       "\\begin{tabular}{r|llllll}\n",
       "  & City & Year & Month & Victim.Age & Perpetrator.Age & Weapon\\\\\n",
       "  & <chr> & <int> & <chr> & <int> & <int> & <chr>\\\\\n",
       "\\hline\n",
       "\t1 & New York & 2007 & December & 29 & 31 & Firearm     \\\\\n",
       "\t2 & New York & 2007 & January  & 16 & 21 & Firearm     \\\\\n",
       "\t3 & New York & 2007 & January  & 28 & 33 & Knife       \\\\\n",
       "\t4 & New York & 2007 & January  & 20 & 30 & Firearm     \\\\\n",
       "\t5 & New York & 2007 & February & 36 & 42 & Blunt Object\\\\\n",
       "\t6 & New York & 2007 & February & 25 & 43 & Firearm     \\\\\n",
       "\\end{tabular}\n"
      ],
      "text/markdown": [
       "\n",
       "A data.frame: 6 × 6\n",
       "\n",
       "| <!--/--> | City &lt;chr&gt; | Year &lt;int&gt; | Month &lt;chr&gt; | Victim.Age &lt;int&gt; | Perpetrator.Age &lt;int&gt; | Weapon &lt;chr&gt; |\n",
       "|---|---|---|---|---|---|---|\n",
       "| 1 | New York | 2007 | December | 29 | 31 | Firearm      |\n",
       "| 2 | New York | 2007 | January  | 16 | 21 | Firearm      |\n",
       "| 3 | New York | 2007 | January  | 28 | 33 | Knife        |\n",
       "| 4 | New York | 2007 | January  | 20 | 30 | Firearm      |\n",
       "| 5 | New York | 2007 | February | 36 | 42 | Blunt Object |\n",
       "| 6 | New York | 2007 | February | 25 | 43 | Firearm      |\n",
       "\n"
      ],
      "text/plain": [
       "  City     Year Month    Victim.Age Perpetrator.Age Weapon      \n",
       "1 New York 2007 December 29         31              Firearm     \n",
       "2 New York 2007 January  16         21              Firearm     \n",
       "3 New York 2007 January  28         33              Knife       \n",
       "4 New York 2007 January  20         30              Firearm     \n",
       "5 New York 2007 February 36         42              Blunt Object\n",
       "6 New York 2007 February 25         43              Firearm     "
      ]
     },
     "metadata": {},
     "output_type": "display_data"
    },
    {
     "name": "stdout",
     "output_type": "stream",
     "text": [
      "[1] \"New York data population: \"\n"
     ]
    },
    {
     "data": {
      "text/html": [
       "1282"
      ],
      "text/latex": [
       "1282"
      ],
      "text/markdown": [
       "1282"
      ],
      "text/plain": [
       "[1] 1282"
      ]
     },
     "metadata": {},
     "output_type": "display_data"
    }
   ],
   "source": [
    "clean_data <- data %>%\n",
    "    filter(!is.na(Victim.Age),!is.na(Perpetrator.Age), Victim.Age != 0, Perpetrator.Age != 0, Victim.Age < 200) %>%\n",
    "    select(-Record.ID:-Agency.Type, -State, -Incident, -Crime.Type, -Crime.Solved, -Victim.Sex, -Victim.Race:-Perpetrator.Sex, \n",
    "           -Perpetrator.Race:-Relationship, -Victim.Count:-Record.Source, -X)\n",
    "LA_data <- clean_data %>%\n",
    "    filter(City == \"Los Angeles\")\n",
    "NY_data <- clean_data %>%\n",
    "    filter(City == \"New York\")\n",
    "head(LA_data)\n",
    "print(\"Los Angeles data population: \")\n",
    "nrow(LA_data)\n",
    "head(NY_data)\n",
    "print(\"New York data population: \")\n",
    "nrow(NY_data)"
   ]
  },
  {
   "cell_type": "markdown",
   "id": "a9bff22f-8a5a-409f-8877-4a8de853df91",
   "metadata": {},
   "source": [
    "### Ploting data"
   ]
  },
  {
   "cell_type": "code",
   "execution_count": null,
   "id": "d42e5ce4-96e0-4b0d-8bab-06c32aaaff07",
   "metadata": {},
   "outputs": [],
   "source": [
    "LA_p_age_mean <- LA_data %>%\n",
    "    summarize(mean = mean(Perpetrator.Age)) %>%\n",
    "    pull()\n",
    "LA_p_age_median <- LA_data %>%\n",
    "    summarize(median = median(Perpetrator.Age)) %>%\n",
    "    pull()\n",
    "LA_p_age_sample_dist <- LA_data %>%\n",
    "    ggplot(aes(x = Perpetrator.Age)) +\n",
    "    geom_histogram(binwidth = 2) +\n",
    "    geom_vline(xintercept = LA_p_age_mean) +\n",
    "    annotate(\"text\", x = 32.5, y = 890, label = \"Mean\") +\n",
    "    annotate(\"text\", x = 32.5, y = 860, label = round(LA_p_age_mean, 2)) +\n",
    "    geom_vline(xintercept = LA_p_age_median, color = \"red\") +\n",
    "    annotate(\"text\", x = 20.5, y = 890, label = \"Median\", color = \"red\") +\n",
    "    annotate(\"text\", x = 20.5, y = 860, label = round(LA_p_age_median, 2), color = \"red\") +\n",
    "    labs(x = \"Perpetrator Age\", title = \"Perpetrator Age Sample Distribution of Los Angeles\", y = \"Count\")\n",
    "\n",
    "NY_p_age_mean <- NY_data %>%\n",
    "    summarize(mean = mean(Perpetrator.Age)) %>%\n",
    "    pull()\n",
    "NY_p_age_median <- NY_data %>%\n",
    "    summarize(median = median(Perpetrator.Age)) %>%\n",
    "    pull()\n",
    "NY_p_age_sample_dist <- NY_data %>%\n",
    "    ggplot(aes(x = Perpetrator.Age)) +\n",
    "    geom_histogram(binwidth = 2) +\n",
    "    geom_vline(xintercept = NY_p_age_mean) +\n",
    "    annotate(\"text\", x = 34, y = 150, label = \"Mean\") +\n",
    "    annotate(\"text\", x = 34, y = 145, label = round(NY_p_age_mean, 2)) +\n",
    "    geom_vline(xintercept = NY_p_age_median, color = \"red\") +\n",
    "    annotate(\"text\", x = 22, y = 150, label = \"Median\", color = \"red\") +\n",
    "    annotate(\"text\", x = 22, y = 145, label = round(NY_p_age_median, 2), color = \"red\") +\n",
    "    labs(x = \"Perpetrator Age\", title = \"Perpetrator Age Sample Distribution of New York\", y = \"Count\")"
   ]
  },
  {
   "cell_type": "code",
   "execution_count": 24,
   "id": "b02a22e4-0a7e-4d15-9178-74281a6eaeea",
   "metadata": {},
   "outputs": [
    {
     "data": {
      "image/png": "[encoded data removed]",
      "text/plain": [
       "plot without title"
      ]
     },
     "metadata": {
      "image/png": {
       "height": 480,
       "width": 1020
      }
     },
     "output_type": "display_data"
    }
   ],
   "source": [
    "options(repr.plot.width = 17, repr.plot.height = 8)\n",
    "plot_grid(LA_p_age_sample_dist, NY_p_age_sample_dist, ncol = 2)"
   ]
  },
  {
   "cell_type": "markdown",
   "id": "14184d2e-05a3-483b-a009-167617d4b9cc",
   "metadata": {},
   "source": [
    "### Analysis:\n"
   ]
  },
  {
   "cell_type": "code",
   "execution_count": 46,
   "id": "fcf30a1a-0777-4618-9a92-29b034704450",
   "metadata": {},
   "outputs": [],
   "source": [
    "LA_v_age_mean <- LA_data %>%\n",
    "    summarize(mean = mean(Victim.Age)) %>%\n",
    "    pull()\n",
    "LA_v_age_median <- LA_data %>%\n",
    "    summarize(median = median(Victim.Age)) %>%\n",
    "    pull()\n",
    "LA_v_age_sample_dist <- LA_data %>%\n",
    "    ggplot(aes(x = Victim.Age)) +\n",
    "    geom_histogram(binwidth = 2) +\n",
    "    geom_vline(xintercept = LA_v_age_mean) +\n",
    "    annotate(\"text\", x = 34.5, y = 540, label = \"Mean\") +\n",
    "    annotate(\"text\", x = 34.5, y = 520, label = round(LA_v_age_mean, 2)) +\n",
    "    geom_vline(xintercept = LA_v_age_median, color = \"red\") +\n",
    "    annotate(\"text\", x = 22.5, y = 540, label = \"Median\", color = \"red\") +\n",
    "    annotate(\"text\", x = 22.5, y = 520, label = round(LA_v_age_median, 2), color = \"red\") +\n",
    "    labs(x = \"Perpetrator Age\", title = \"Victim Age Sample Distribution of Los Angeles\", y = \"Count\")\n",
    "\n",
    "NY_v_age_mean <- NY_data %>%\n",
    "    summarize(mean = mean(Victim.Age)) %>%\n",
    "    pull()\n",
    "NY_v_age_median <- NY_data %>%\n",
    "    summarize(median = median(Victim.Age)) %>%\n",
    "    pull()\n",
    "NY_v_age_sample_dist <- NY_data %>%\n",
    "    ggplot(aes(x = Victim.Age)) +\n",
    "    geom_histogram(binwidth = 2) +\n",
    "    geom_vline(xintercept = NY_v_age_mean) +\n",
    "    annotate(\"text\", x = 36, y = 120, label = \"Mean\") +\n",
    "    annotate(\"text\", x = 36, y = 115, label = round(NY_v_age_mean, 2)) +\n",
    "    geom_vline(xintercept = NY_v_age_median, color = \"red\") +\n",
    "    annotate(\"text\", x = 24.5, y = 120, label = \"Median\", color = \"red\") +\n",
    "    annotate(\"text\", x = 24.5, y = 115, label = round(NY_v_age_median, 2), color = \"red\") +\n",
    "    labs(x = \"Perpetrator Age\", title = \"Victim Age Sample Distribution of New York\", y = \"Count\")"
   ]
  },
  {
   "cell_type": "code",
   "execution_count": 48,
   "id": "8cae2684-c748-40df-a361-ae159b7e077c",
   "metadata": {},
   "outputs": [
    {
     "data": {
      "image/png": "[encoded data removed]",
      "text/plain": [
       "plot without title"
      ]
     },
     "metadata": {
      "image/png": {
       "height": 480,
       "width": 1020
      }
     },
     "output_type": "display_data"
    }
   ],
   "source": [
    "options(repr.plot.width = 17, repr.plot.height = 8)\n",
    "plot_grid(LA_v_age_sample_dist, NY_v_age_sample_dist, ncol = 2)"
   ]
  },
  {
   "cell_type": "markdown",
   "id": "6bc8ae0e-14b9-47ec-9a8f-61535eaa5685",
   "metadata": {},
   "source": [
    "### Analysis:\n"
   ]
  },
  {
   "cell_type": "code",
   "execution_count": 7,
   "id": "72a0ec33-8310-44ba-be84-20652a9607b1",
   "metadata": {},
   "outputs": [
    {
     "data": {
      "image/png": "[encoded data removed]",
      "text/plain": [
       "plot without title"
      ]
     },
     "metadata": {
      "image/png": {
       "height": 420,
       "width": 420
      }
     },
     "output_type": "display_data"
    }
   ],
   "source": [
    "boxplots <- \n",
    "   clean_data %>%  \n",
    "    filter(City %in% c(\"New York\", \"Los Angeles\")) %>%\n",
    "   ggplot(aes(x = City, y = Perpetrator.Age)) + \n",
    "   geom_boxplot() + \n",
    "   ylab(\"Perpetrator Age\") +\n",
    "   xlab(\"City\") +\n",
    "   ggtitle(\"Boxplot of the age of Perpetrator in two city\") +\n",
    "   theme(text = element_text(size=15))\n",
    "boxplots"
   ]
  },
  {
   "cell_type": "markdown",
   "id": "c90987de-0fd5-428f-b41d-ea48596abebd",
   "metadata": {},
   "source": [
    "### Analysis:\n"
   ]
  },
  {
   "cell_type": "markdown",
   "id": "2ef4938f-5edb-4f30-97e1-01ebfd8edfdd",
   "metadata": {},
   "source": [
    "## Methods:"
   ]
  },
  {
   "cell_type": "markdown",
   "id": "b06387a8-c492-4ce7-a7cf-ad3ae9bb3e01",
   "metadata": {},
   "source": [
    "In the previous part, we gave a visualization of the age of homicide in 2 different cities. However, we do not have the confidence interval of our estimates and we did not include the year factor."
   ]
  },
  {
   "cell_type": "markdown",
   "id": "c0d3cf7e-9bae-4958-968a-7721f9778f05",
   "metadata": {},
   "source": [
    "## Plan:"
   ]
  },
  {
   "cell_type": "markdown",
   "id": "7477aa7e-78c7-429a-bd26-ce560b4d0cf5",
   "metadata": {},
   "source": [
    "We want to compare the average age of murder in Los Angeles and New York in different periods.\n",
    "\n",
    "Repeatedly doing bootstrap sampling on the original sample.\n",
    "\n",
    "Generate a confidence interval for the average homicide age.\n",
    "\n",
    "Test our null hypothesis that the ages are the same for committing homicide in the 2 cities.\n",
    "\n",
    "From the histogram, we can see that Los Angeles has a slightly lower median and means compared to New York. From the boxplot, we can see the  IQR, median, and tails are similar in the two plots, but the outliers of LA have a larger range than that of NY. Therefore, we would expect that the average age for committing a homicide in Los Angeles has little difference from that of New York. If that is the case, we cannot conclude that there is a direct correlation between the age of the murder and the location. On the other hand, if our expectation is proven wrong through hypothesis testing, we can pose further questions about if the culture and laws in these two cities affect our results.\n",
    "\n",
    "The low average age for homicides in both these cities poses questions regarding what we can do to help mitigate these murders. This analysis could potentially inform us on which ages we should focus on helping reduce overall homicide rates."
   ]
  },
  {
   "cell_type": "code",
   "execution_count": 12,
   "id": "6d390595-d208-4753-bc07-018c17418f43",
   "metadata": {},
   "outputs": [],
   "source": [
    "set.seed(2000)"
   ]
  },
  {
   "cell_type": "code",
   "execution_count": 13,
   "id": "c3b212f9-e532-4d9e-99df-a9f81de406b7",
   "metadata": {},
   "outputs": [
    {
     "name": "stdout",
     "output_type": "stream",
     "text": [
      "P value is:  0.0012"
     ]
    },
    {
     "data": {
      "image/png": "[encoded data removed]",
      "text/plain": [
       "plot without title"
      ]
     },
     "metadata": {
      "image/png": {
       "height": 420,
       "width": 420
      }
     },
     "output_type": "display_data"
    }
   ],
   "source": [
    "obs_mean_perp_diff <- \n",
    "    clean_data %>% \n",
    "    filter(City %in% c(\"Los Angeles\", \"New York\")) %>%\n",
    "    group_by(City) %>% \n",
    "    summarise(mean = mean(Perpetrator.Age)) %>%\n",
    "    pivot_wider(names_from = City, values_from = mean) %>%\n",
    "    transmute(diff = `Los Angeles` - `New York`) %>%\n",
    "    pull(diff)\n",
    "null_model_perpetrator_mean <-  \n",
    "   filter(clean_data, City %in% c(\"Los Angeles\", \"New York\")) %>%\n",
    "   specify(formula = Perpetrator.Age ~ City) %>% \n",
    "   hypothesize(null = \"independence\") %>% \n",
    "   generate(reps = 5000, type = \"permute\") %>% \n",
    "   calculate(stat=\"diff in means\", order = c(\"Los Angeles\", \"New York\"))\n",
    "result_plot_perpetrator <- \n",
    "   null_model_perpetrator_mean %>%\n",
    "   visualize() + \n",
    "   shade_p_value(obs_stat = obs_mean_perp_diff, direction = \"both\") +\n",
    "   labs(x = \"Mean Difference in Age of Perpetrator\")\n",
    "p_value_mean_prep <- \n",
    "    null_model_perpetrator_mean %>% \n",
    "    get_p_value(obs_stat = obs_mean_perp_diff, direction = \"both\") %>%\n",
    "    pull()\n",
    "result_plot_perpetrator\n",
    "cat(\"P value is: \", p_value_mean_prep)"
   ]
  },
  {
   "cell_type": "code",
   "execution_count": 14,
   "id": "6efd16d3-7151-4525-92b8-22d3903f1561",
   "metadata": {},
   "outputs": [
    {
     "name": "stdout",
     "output_type": "stream",
     "text": [
      "P value is:  0.0044"
     ]
    },
    {
     "data": {
      "image/png": "[encoded data removed]",
      "text/plain": [
       "plot without title"
      ]
     },
     "metadata": {
      "image/png": {
       "height": 420,
       "width": 420
      }
     },
     "output_type": "display_data"
    }
   ],
   "source": [
    "obs_mean_vict_diff <- \n",
    "    clean_data %>% \n",
    "    filter(City %in% c(\"Los Angeles\", \"New York\")) %>%\n",
    "    group_by(City) %>% \n",
    "    summarise(mean = mean(Victim.Age)) %>%\n",
    "    pivot_wider(names_from = City, values_from = mean) %>%\n",
    "    transmute(diff = `Los Angeles` - `New York`) %>%\n",
    "    pull(diff)\n",
    "null_model_vict_mean <-  \n",
    "   filter(clean_data, City %in% c(\"Los Angeles\", \"New York\")) %>%\n",
    "   specify(formula = Victim.Age ~ City) %>% \n",
    "   hypothesize(null = \"independence\") %>% \n",
    "   generate(reps = 5000, type = \"permute\") %>% \n",
    "   calculate(stat=\"diff in means\", order = c(\"Los Angeles\", \"New York\"))\n",
    "result_plot_vict <- \n",
    "   null_model_vict_mean %>%\n",
    "   visualize() + \n",
    "   shade_p_value(obs_stat = obs_mean_vict_diff, direction = \"both\") +\n",
    "   labs(x = \"Mean Difference in Age of Victim\")\n",
    "p_value_mean_vict <- \n",
    "    null_model_vict_mean %>% \n",
    "    get_p_value(obs_stat = obs_mean_vict_diff, direction = \"both\") %>%\n",
    "    pull()\n",
    "result_plot_vict\n",
    "cat(\"P value is: \", p_value_mean_vict)"
   ]
  },
  {
   "cell_type": "code",
   "execution_count": 9,
   "id": "5dec902c-1cc6-4547-b9e2-d7b3e53b3429",
   "metadata": {},
   "outputs": [],
   "source": [
    "teen_proportion_data <- clean_data %>%\n",
    "    filter(City %in% c(\"Los Angeles\", \"New York\")) %>%\n",
    "    mutate(perpetrator_teen = between(Perpetrator.Age, 13, 17),\n",
    "           victim_teen = between(Victim.Age, 13, 17)) %>%\n",
    "    select(\"City\", \"perpetrator_teen\", \"victim_teen\")"
   ]
  },
  {
   "cell_type": "code",
   "execution_count": 15,
   "id": "4e85669a-2c0d-4f0c-9a37-c426bc6e3dad",
   "metadata": {},
   "outputs": [
    {
     "data": {
      "text/html": [
       "<table class=\"dataframe\">\n",
       "<caption>A grouped_df: 4 × 4</caption>\n",
       "<thead>\n",
       "\t<tr><th scope=col>City</th><th scope=col>perpetrator_teen</th><th scope=col>n</th><th scope=col>p</th></tr>\n",
       "\t<tr><th scope=col>&lt;chr&gt;</th><th scope=col>&lt;lgl&gt;</th><th scope=col>&lt;int&gt;</th><th scope=col>&lt;dbl&gt;</th></tr>\n",
       "</thead>\n",
       "<tbody>\n",
       "\t<tr><td>Los Angeles</td><td>FALSE</td><td>5630</td><td>0.92295082</td></tr>\n",
       "\t<tr><td>Los Angeles</td><td> TRUE</td><td> 470</td><td>0.07704918</td></tr>\n",
       "\t<tr><td>New York   </td><td>FALSE</td><td>1184</td><td>0.92355694</td></tr>\n",
       "\t<tr><td>New York   </td><td> TRUE</td><td>  98</td><td>0.07644306</td></tr>\n",
       "</tbody>\n",
       "</table>\n"
      ],
      "text/latex": [
       "A grouped\\_df: 4 × 4\n",
       "\\begin{tabular}{llll}\n",
       " City & perpetrator\\_teen & n & p\\\\\n",
       " <chr> & <lgl> & <int> & <dbl>\\\\\n",
       "\\hline\n",
       "\t Los Angeles & FALSE & 5630 & 0.92295082\\\\\n",
       "\t Los Angeles &  TRUE &  470 & 0.07704918\\\\\n",
       "\t New York    & FALSE & 1184 & 0.92355694\\\\\n",
       "\t New York    &  TRUE &   98 & 0.07644306\\\\\n",
       "\\end{tabular}\n"
      ],
      "text/markdown": [
       "\n",
       "A grouped_df: 4 × 4\n",
       "\n",
       "| City &lt;chr&gt; | perpetrator_teen &lt;lgl&gt; | n &lt;int&gt; | p &lt;dbl&gt; |\n",
       "|---|---|---|---|\n",
       "| Los Angeles | FALSE | 5630 | 0.92295082 |\n",
       "| Los Angeles |  TRUE |  470 | 0.07704918 |\n",
       "| New York    | FALSE | 1184 | 0.92355694 |\n",
       "| New York    |  TRUE |   98 | 0.07644306 |\n",
       "\n"
      ],
      "text/plain": [
       "  City        perpetrator_teen n    p         \n",
       "1 Los Angeles FALSE            5630 0.92295082\n",
       "2 Los Angeles  TRUE             470 0.07704918\n",
       "3 New York    FALSE            1184 0.92355694\n",
       "4 New York     TRUE              98 0.07644306"
      ]
     },
     "metadata": {},
     "output_type": "display_data"
    },
    {
     "name": "stdout",
     "output_type": "stream",
     "text": [
      "test statistic is: 0.07402547\n",
      "P value is: 0.9409901"
     ]
    },
    {
     "data": {
      "text/html": [
       "<table class=\"dataframe\">\n",
       "<caption>A tibble: 1 × 9</caption>\n",
       "<thead>\n",
       "\t<tr><th scope=col>estimate1</th><th scope=col>estimate2</th><th scope=col>statistic</th><th scope=col>p.value</th><th scope=col>parameter</th><th scope=col>conf.low</th><th scope=col>conf.high</th><th scope=col>method</th><th scope=col>alternative</th></tr>\n",
       "\t<tr><th scope=col>&lt;dbl&gt;</th><th scope=col>&lt;dbl&gt;</th><th scope=col>&lt;dbl&gt;</th><th scope=col>&lt;dbl&gt;</th><th scope=col>&lt;dbl&gt;</th><th scope=col>&lt;dbl&gt;</th><th scope=col>&lt;dbl&gt;</th><th scope=col>&lt;chr&gt;</th><th scope=col>&lt;chr&gt;</th></tr>\n",
       "</thead>\n",
       "<tbody>\n",
       "\t<tr><td>0.07704918</td><td>0.07644306</td><td>0.005479771</td><td>0.9409901</td><td>1</td><td>-0.01540423</td><td>0.01661648</td><td>2-sample test for equality of proportions without continuity correction</td><td>two.sided</td></tr>\n",
       "</tbody>\n",
       "</table>\n"
      ],
      "text/latex": [
       "A tibble: 1 × 9\n",
       "\\begin{tabular}{lllllllll}\n",
       " estimate1 & estimate2 & statistic & p.value & parameter & conf.low & conf.high & method & alternative\\\\\n",
       " <dbl> & <dbl> & <dbl> & <dbl> & <dbl> & <dbl> & <dbl> & <chr> & <chr>\\\\\n",
       "\\hline\n",
       "\t 0.07704918 & 0.07644306 & 0.005479771 & 0.9409901 & 1 & -0.01540423 & 0.01661648 & 2-sample test for equality of proportions without continuity correction & two.sided\\\\\n",
       "\\end{tabular}\n"
      ],
      "text/markdown": [
       "\n",
       "A tibble: 1 × 9\n",
       "\n",
       "| estimate1 &lt;dbl&gt; | estimate2 &lt;dbl&gt; | statistic &lt;dbl&gt; | p.value &lt;dbl&gt; | parameter &lt;dbl&gt; | conf.low &lt;dbl&gt; | conf.high &lt;dbl&gt; | method &lt;chr&gt; | alternative &lt;chr&gt; |\n",
       "|---|---|---|---|---|---|---|---|---|\n",
       "| 0.07704918 | 0.07644306 | 0.005479771 | 0.9409901 | 1 | -0.01540423 | 0.01661648 | 2-sample test for equality of proportions without continuity correction | two.sided |\n",
       "\n"
      ],
      "text/plain": [
       "  estimate1  estimate2  statistic   p.value   parameter conf.low    conf.high \n",
       "1 0.07704918 0.07644306 0.005479771 0.9409901 1         -0.01540423 0.01661648\n",
       "  method                                                                 \n",
       "1 2-sample test for equality of proportions without continuity correction\n",
       "  alternative\n",
       "1 two.sided  "
      ]
     },
     "metadata": {},
     "output_type": "display_data"
    }
   ],
   "source": [
    "perpetrator_qnts <- \n",
    "    teen_proportion_data %>% \n",
    "    group_by(City) %>% \n",
    "    count(perpetrator_teen)  %>% \n",
    "    mutate(p = n/sum(n))\n",
    "perpetrator_qnts\n",
    "n1 <- \n",
    "    perpetrator_qnts %>% \n",
    "    filter(City == \"Los Angeles\") %>% \n",
    "    pull(n) %>% \n",
    "    sum()\n",
    "\n",
    "n2 <- \n",
    "    perpetrator_qnts %>% \n",
    "    filter(City == \"New York\") %>% \n",
    "    pull(n) %>% \n",
    "    sum()\n",
    "\n",
    "p1 <- \n",
    "    perpetrator_qnts %>% \n",
    "    filter(City == \"Los Angeles\" & perpetrator_teen == \"TRUE\") %>% \n",
    "    pull(p)\n",
    "\n",
    "p2 <- \n",
    "    perpetrator_qnts %>% \n",
    "    filter(City == \"New York\" & perpetrator_teen == \"TRUE\") %>%\n",
    "    pull(p)\n",
    "\n",
    "p <- (n1 * p1 + n2*p2)/(n1 + n2)\n",
    "\n",
    "test_statistic <- (p1 - p2) / (sqrt(p*(1-p)*(1/n1 + 1/n2)))\n",
    "p_value <- 2 * pnorm(test_statistic, lower.tail = FALSE)\n",
    "cat(\"test statistic is:\", test_statistic)\n",
    "cat(\"\\nP value is:\", p_value)\n",
    "p_test <- tidy(\n",
    "        prop.test(x = c(n1*p1, n2*p2), \n",
    "                  n = c(n1, n2),\n",
    "                  correct = FALSE)) \n",
    "p_test"
   ]
  },
  {
   "cell_type": "code",
   "execution_count": 16,
   "id": "77ef8817-1f3f-4d2f-bd25-fa035f1a72a9",
   "metadata": {},
   "outputs": [
    {
     "data": {
      "text/html": [
       "<table class=\"dataframe\">\n",
       "<caption>A grouped_df: 4 × 4</caption>\n",
       "<thead>\n",
       "\t<tr><th scope=col>City</th><th scope=col>victim_teen</th><th scope=col>n</th><th scope=col>p</th></tr>\n",
       "\t<tr><th scope=col>&lt;chr&gt;</th><th scope=col>&lt;lgl&gt;</th><th scope=col>&lt;int&gt;</th><th scope=col>&lt;dbl&gt;</th></tr>\n",
       "</thead>\n",
       "<tbody>\n",
       "\t<tr><td>Los Angeles</td><td>FALSE</td><td>5634</td><td>0.92360656</td></tr>\n",
       "\t<tr><td>Los Angeles</td><td> TRUE</td><td> 466</td><td>0.07639344</td></tr>\n",
       "\t<tr><td>New York   </td><td>FALSE</td><td>1206</td><td>0.94071763</td></tr>\n",
       "\t<tr><td>New York   </td><td> TRUE</td><td>  76</td><td>0.05928237</td></tr>\n",
       "</tbody>\n",
       "</table>\n"
      ],
      "text/latex": [
       "A grouped\\_df: 4 × 4\n",
       "\\begin{tabular}{llll}\n",
       " City & victim\\_teen & n & p\\\\\n",
       " <chr> & <lgl> & <int> & <dbl>\\\\\n",
       "\\hline\n",
       "\t Los Angeles & FALSE & 5634 & 0.92360656\\\\\n",
       "\t Los Angeles &  TRUE &  466 & 0.07639344\\\\\n",
       "\t New York    & FALSE & 1206 & 0.94071763\\\\\n",
       "\t New York    &  TRUE &   76 & 0.05928237\\\\\n",
       "\\end{tabular}\n"
      ],
      "text/markdown": [
       "\n",
       "A grouped_df: 4 × 4\n",
       "\n",
       "| City &lt;chr&gt; | victim_teen &lt;lgl&gt; | n &lt;int&gt; | p &lt;dbl&gt; |\n",
       "|---|---|---|---|\n",
       "| Los Angeles | FALSE | 5634 | 0.92360656 |\n",
       "| Los Angeles |  TRUE |  466 | 0.07639344 |\n",
       "| New York    | FALSE | 1206 | 0.94071763 |\n",
       "| New York    |  TRUE |   76 | 0.05928237 |\n",
       "\n"
      ],
      "text/plain": [
       "  City        victim_teen n    p         \n",
       "1 Los Angeles FALSE       5634 0.92360656\n",
       "2 Los Angeles  TRUE        466 0.07639344\n",
       "3 New York    FALSE       1206 0.94071763\n",
       "4 New York     TRUE         76 0.05928237"
      ]
     },
     "metadata": {},
     "output_type": "display_data"
    },
    {
     "name": "stdout",
     "output_type": "stream",
     "text": [
      "test statistic is: 2.135234\n",
      "P value is: 0.03274191"
     ]
    },
    {
     "data": {
      "text/html": [
       "<table class=\"dataframe\">\n",
       "<caption>A tibble: 1 × 9</caption>\n",
       "<thead>\n",
       "\t<tr><th scope=col>estimate1</th><th scope=col>estimate2</th><th scope=col>statistic</th><th scope=col>p.value</th><th scope=col>parameter</th><th scope=col>conf.low</th><th scope=col>conf.high</th><th scope=col>method</th><th scope=col>alternative</th></tr>\n",
       "\t<tr><th scope=col>&lt;dbl&gt;</th><th scope=col>&lt;dbl&gt;</th><th scope=col>&lt;dbl&gt;</th><th scope=col>&lt;dbl&gt;</th><th scope=col>&lt;dbl&gt;</th><th scope=col>&lt;dbl&gt;</th><th scope=col>&lt;dbl&gt;</th><th scope=col>&lt;chr&gt;</th><th scope=col>&lt;chr&gt;</th></tr>\n",
       "</thead>\n",
       "<tbody>\n",
       "\t<tr><td>0.07639344</td><td>0.05928237</td><td>4.559224</td><td>0.03274191</td><td>1</td><td>0.002566665</td><td>0.03165548</td><td>2-sample test for equality of proportions without continuity correction</td><td>two.sided</td></tr>\n",
       "</tbody>\n",
       "</table>\n"
      ],
      "text/latex": [
       "A tibble: 1 × 9\n",
       "\\begin{tabular}{lllllllll}\n",
       " estimate1 & estimate2 & statistic & p.value & parameter & conf.low & conf.high & method & alternative\\\\\n",
       " <dbl> & <dbl> & <dbl> & <dbl> & <dbl> & <dbl> & <dbl> & <chr> & <chr>\\\\\n",
       "\\hline\n",
       "\t 0.07639344 & 0.05928237 & 4.559224 & 0.03274191 & 1 & 0.002566665 & 0.03165548 & 2-sample test for equality of proportions without continuity correction & two.sided\\\\\n",
       "\\end{tabular}\n"
      ],
      "text/markdown": [
       "\n",
       "A tibble: 1 × 9\n",
       "\n",
       "| estimate1 &lt;dbl&gt; | estimate2 &lt;dbl&gt; | statistic &lt;dbl&gt; | p.value &lt;dbl&gt; | parameter &lt;dbl&gt; | conf.low &lt;dbl&gt; | conf.high &lt;dbl&gt; | method &lt;chr&gt; | alternative &lt;chr&gt; |\n",
       "|---|---|---|---|---|---|---|---|---|\n",
       "| 0.07639344 | 0.05928237 | 4.559224 | 0.03274191 | 1 | 0.002566665 | 0.03165548 | 2-sample test for equality of proportions without continuity correction | two.sided |\n",
       "\n"
      ],
      "text/plain": [
       "  estimate1  estimate2  statistic p.value    parameter conf.low    conf.high \n",
       "1 0.07639344 0.05928237 4.559224  0.03274191 1         0.002566665 0.03165548\n",
       "  method                                                                 \n",
       "1 2-sample test for equality of proportions without continuity correction\n",
       "  alternative\n",
       "1 two.sided  "
      ]
     },
     "metadata": {},
     "output_type": "display_data"
    }
   ],
   "source": [
    "victim_qnts <- \n",
    "    teen_proportion_data %>% \n",
    "    group_by(City) %>% \n",
    "    count(victim_teen)  %>% \n",
    "    mutate(p = n/sum(n))\n",
    "victim_qnts\n",
    "n1 <- \n",
    "    victim_qnts %>% \n",
    "    filter(City == \"Los Angeles\") %>% \n",
    "    pull(n) %>% \n",
    "    sum()\n",
    "\n",
    "n2 <- \n",
    "    victim_qnts %>% \n",
    "    filter(City == \"New York\") %>% \n",
    "    pull(n) %>% \n",
    "    sum()\n",
    "\n",
    "p1 <- \n",
    "    victim_qnts %>% \n",
    "    filter(City == \"Los Angeles\" & victim_teen == \"TRUE\") %>% \n",
    "    pull(p)\n",
    "\n",
    "p2 <- \n",
    "    victim_qnts %>% \n",
    "    filter(City == \"New York\" & victim_teen == \"TRUE\") %>%\n",
    "    pull(p)\n",
    "\n",
    "p <- (n1 * p1 + n2*p2)/(n1 + n2)\n",
    "\n",
    "test_statistic <- (p1 - p2) / (sqrt(p*(1-p)*(1/n1 + 1/n2)))\n",
    "p_value <- 2 * pnorm(test_statistic, lower.tail = FALSE)\n",
    "cat(\"test statistic is:\", test_statistic)\n",
    "cat(\"\\nP value is:\", p_value)\n",
    "p_test <- tidy(\n",
    "        prop.test(x = c(n1*p1, n2*p2), \n",
    "                  n = c(n1, n2),\n",
    "                  correct = FALSE)) \n",
    "p_test"
   ]
  },
  {
   "cell_type": "markdown",
   "id": "3d87f258-395c-444d-a1a9-4c2730115630",
   "metadata": {},
   "source": [
    "## References:"
   ]
  },
  {
   "cell_type": "markdown",
   "id": "551540ac-ddd6-4998-9ba2-aac6a1775ac7",
   "metadata": {},
   "source": [
    "Dataset: https://www.kaggle.com/datasets/murderaccountability/homicide-reports\n",
    "\n",
    "Ousey, G. C., & Kubrin, C. E. (2014). Immigration and the changing nature of homicide in US cities, 1980-2010. Journal of Quantitative Criminology, 30(3), 453-483. doi:https://doi.org/10.1007/s10940-013-9210-5\n",
    "\n",
    "Fingerhut LA, Ingram DD, Feldman JJ. Homicide Rates Among US Teenagers and Young Adults(1998): Differences by Mechanism, Level of Urbanization, Race, and Sex,1987 Through 1995. JAMA. 1998;280(5):423–427.     doi:10.1001/jama.280.5.423 \n"
   ]
  }
 ],
 "metadata": {
  "kernelspec": {
   "display_name": "R",
   "language": "R",
   "name": "ir"
  },
  "language_info": {
   "codemirror_mode": "r",
   "file_extension": ".r",
   "mimetype": "text/x-r-source",
   "name": "R",
   "pygments_lexer": "r",
   "version": "4.0.5"
  }
 },
 "nbformat": 4,
 "nbformat_minor": 5
}
